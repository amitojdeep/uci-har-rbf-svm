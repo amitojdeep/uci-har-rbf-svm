{
 "cells": [
  {
   "cell_type": "markdown",
   "metadata": {},
   "source": [
    "# Multi-class SVM with RBF kernel for activity classification from UCI HAR dataset"
   ]
  },
  {
   "cell_type": "code",
   "execution_count": 1,
   "metadata": {
    "ExecuteTime": {
     "end_time": "2020-04-11T06:22:23.067485Z",
     "start_time": "2020-04-11T06:22:21.304042Z"
    }
   },
   "outputs": [],
   "source": [
    "import numpy as np\n",
    "from sklearn.decomposition import PCA\n",
    "from sklearn.preprocessing import StandardScaler\n",
    "from sklearn.tree import DecisionTreeClassifier\n",
    "from sklearn.svm import SVC\n",
    "from sklearn.model_selection import GridSearchCV\n",
    "from hypopt import GridSearch\n",
    "from sklearn.metrics import accuracy_score\n",
    "from sklearn.metrics import make_scorer\n",
    "import matplotlib.pyplot as plt\n",
    "import seaborn as sn\n",
    "from sklearn.neighbors import KNeighborsClassifier"
   ]
  },
  {
   "cell_type": "markdown",
   "metadata": {},
   "source": [
    "## 1. Loading Data"
   ]
  },
  {
   "cell_type": "code",
   "execution_count": 2,
   "metadata": {
    "ExecuteTime": {
     "end_time": "2020-04-11T06:22:23.072327Z",
     "start_time": "2020-04-11T06:22:23.069682Z"
    }
   },
   "outputs": [],
   "source": [
    "#filepaths\n",
    "base = 'UCI HAR Dataset/'\n",
    "f_x_train = base + 'train/X_train.txt'\n",
    "f_x_test = base + 'test/X_test.txt'\n",
    "f_y_train = base + 'train/Y_train.txt'\n",
    "f_y_test = base + 'test/Y_test.txt'"
   ]
  },
  {
   "cell_type": "code",
   "execution_count": 3,
   "metadata": {
    "ExecuteTime": {
     "end_time": "2020-04-11T06:22:23.078793Z",
     "start_time": "2020-04-11T06:22:23.074627Z"
    }
   },
   "outputs": [],
   "source": [
    "def readX(filename):\n",
    "    # Using readlines() \n",
    "    file = open(filename, 'r') \n",
    "    Lines = file.readlines() \n",
    "    vec_arr = []\n",
    "    for line in Lines: \n",
    "        vec = []\n",
    "        line = line.strip()\n",
    "        for word in line.split():\n",
    "            vec.append(float(word))\n",
    "        vec_arr.append(vec)\n",
    "    X = np.array(vec_arr)\n",
    "    scaler = StandardScaler()\n",
    "    X_scaled = scaler.fit_transform(X)\n",
    "    return X_scaled"
   ]
  },
  {
   "cell_type": "code",
   "execution_count": 4,
   "metadata": {
    "ExecuteTime": {
     "end_time": "2020-04-11T06:22:23.084679Z",
     "start_time": "2020-04-11T06:22:23.080697Z"
    }
   },
   "outputs": [],
   "source": [
    "def readY(filename):\n",
    "    # Using readlines() \n",
    "    file = open(filename, 'r') \n",
    "    Lines = file.readlines() \n",
    "    vec_arr = []\n",
    "    for line in Lines:\n",
    "        line = line.strip()\n",
    "        vec_arr.append(int(line))\n",
    "    return np.array(vec_arr)"
   ]
  },
  {
   "cell_type": "code",
   "execution_count": 5,
   "metadata": {
    "ExecuteTime": {
     "end_time": "2020-04-11T06:22:25.474370Z",
     "start_time": "2020-04-11T06:22:23.191489Z"
    }
   },
   "outputs": [],
   "source": [
    "X_train = readX(f_x_train)\n",
    "X_test = readX(f_x_test)\n",
    "Y_train = readY(f_y_train)\n",
    "Y_test = readY(f_y_test)\n",
    "data = np.append(X_train, Y_train.reshape([Y_train.shape[0], 1]), axis = 1)"
   ]
  },
  {
   "cell_type": "code",
   "execution_count": 6,
   "metadata": {
    "ExecuteTime": {
     "end_time": "2020-04-11T06:22:25.630445Z",
     "start_time": "2020-04-11T06:22:25.476421Z"
    }
   },
   "outputs": [
    {
     "data": {
      "image/png": "[encoded data removed]",
      "text/plain": [
       "<Figure size 432x288 with 1 Axes>"
      ]
     },
     "metadata": {
      "needs_background": "light"
     },
     "output_type": "display_data"
    }
   ],
   "source": [
    "classes, counts = np.unique(Y_train, return_counts=True)\n",
    "plt.bar(classes, counts)\n",
    "plt.show()"
   ]
  },
  {
   "cell_type": "markdown",
   "metadata": {},
   "source": [
    "# 2. PCA for reference"
   ]
  },
  {
   "cell_type": "code",
   "execution_count": 7,
   "metadata": {
    "ExecuteTime": {
     "end_time": "2020-04-11T06:22:25.795298Z",
     "start_time": "2020-04-11T06:22:25.634451Z"
    }
   },
   "outputs": [
    {
     "name": "stdout",
     "output_type": "stream",
     "text": [
      "0.7737196130518785\n"
     ]
    }
   ],
   "source": [
    "pca = PCA(n_components=20)\n",
    "pca.fit(X_train)\n",
    "print(sum(pca.explained_variance_ratio_))\n",
    "X_train_pca = pca.transform(X_train)\n",
    "X_test_pca = pca.transform(X_test)"
   ]
  },
  {
   "cell_type": "code",
   "execution_count": 8,
   "metadata": {
    "ExecuteTime": {
     "end_time": "2020-04-11T06:22:25.801011Z",
     "start_time": "2020-04-11T06:22:25.797346Z"
    }
   },
   "outputs": [],
   "source": [
    "data_pca = np.append(X_train_pca, Y_train.reshape([Y_train.shape[0], 1]), axis = 1)"
   ]
  },
  {
   "cell_type": "code",
   "execution_count": 9,
   "metadata": {
    "ExecuteTime": {
     "end_time": "2020-04-11T06:22:27.671364Z",
     "start_time": "2020-04-11T06:22:27.665771Z"
    }
   },
   "outputs": [],
   "source": [
    "def get_acc(X, Y, model):\n",
    "    Y_pred = model.predict(X)\n",
    "    corr = 0.0\n",
    "    for i in range(Y_pred.shape[0]):\n",
    "        if Y_pred[i] == Y[i]:\n",
    "            corr+=1\n",
    "    return (corr/Y.shape[0])"
   ]
  },
  {
   "cell_type": "markdown",
   "metadata": {},
   "source": [
    "# 3. Grid search on RBF SVM"
   ]
  },
  {
   "cell_type": "code",
   "execution_count": 10,
   "metadata": {
    "ExecuteTime": {
     "end_time": "2020-04-11T06:22:28.326279Z",
     "start_time": "2020-04-11T06:22:28.321450Z"
    }
   },
   "outputs": [],
   "source": [
    "clf = SVC()\n",
    "parameters=[{'gamma': [0.01, 0.001, 0.0001, 0.00001], 'C': [10, 100, 1000,10000]}]"
   ]
  },
  {
   "cell_type": "code",
   "execution_count": 15,
   "metadata": {
    "ExecuteTime": {
     "end_time": "2020-04-10T18:32:15.392512Z",
     "start_time": "2020-04-10T18:15:23.028423Z"
    }
   },
   "outputs": [
    {
     "name": "stdout",
     "output_type": "stream",
     "text": [
      "Fitting 10 folds for each of 16 candidates, totalling 160 fits\n"
     ]
    },
    {
     "name": "stderr",
     "output_type": "stream",
     "text": [
      "[Parallel(n_jobs=-1)]: Using backend LokyBackend with 8 concurrent workers.\n",
      "[Parallel(n_jobs=-1)]: Done   2 tasks      | elapsed:   43.5s\n",
      "[Parallel(n_jobs=-1)]: Done   9 tasks      | elapsed:  1.5min\n",
      "[Parallel(n_jobs=-1)]: Done  16 tasks      | elapsed:  1.9min\n",
      "[Parallel(n_jobs=-1)]: Done  25 tasks      | elapsed:  2.7min\n",
      "[Parallel(n_jobs=-1)]: Done  34 tasks      | elapsed:  3.7min\n",
      "[Parallel(n_jobs=-1)]: Done  45 tasks      | elapsed:  5.2min\n",
      "[Parallel(n_jobs=-1)]: Done  56 tasks      | elapsed:  6.4min\n",
      "[Parallel(n_jobs=-1)]: Done  69 tasks      | elapsed:  7.6min\n",
      "[Parallel(n_jobs=-1)]: Done  82 tasks      | elapsed:  9.3min\n",
      "[Parallel(n_jobs=-1)]: Done  97 tasks      | elapsed: 10.6min\n",
      "[Parallel(n_jobs=-1)]: Done 112 tasks      | elapsed: 12.0min\n",
      "[Parallel(n_jobs=-1)]: Done 129 tasks      | elapsed: 14.1min\n",
      "[Parallel(n_jobs=-1)]: Done 160 out of 160 | elapsed: 16.8min finished\n"
     ]
    },
    {
     "data": {
      "text/plain": [
       "GridSearchCV(cv=10, error_score='raise-deprecating',\n",
       "             estimator=SVC(C=1.0, cache_size=200, class_weight=None, coef0=0.0,\n",
       "                           decision_function_shape='ovr', degree=3,\n",
       "                           gamma='auto_deprecated', kernel='rbf', max_iter=-1,\n",
       "                           probability=False, random_state=None, shrinking=True,\n",
       "                           tol=0.001, verbose=False),\n",
       "             iid='warn', n_jobs=-1,\n",
       "             param_grid=[{'C': [10, 100, 1000, 10000],\n",
       "                          'gamma': [0.01, 0.001, 0.0001, 1e-05]}],\n",
       "             pre_dispatch='2*n_jobs', refit=True, return_train_score=False,\n",
       "             scoring=None, verbose=10)"
      ]
     },
     "execution_count": 15,
     "metadata": {},
     "output_type": "execute_result"
    }
   ],
   "source": [
    "model=GridSearchCV(clf,parameters,n_jobs=-1,cv=10,verbose=10)\n",
    "model.fit(X_train.tolist(),Y_train.tolist())"
   ]
  },
  {
   "cell_type": "code",
   "execution_count": 16,
   "metadata": {
    "ExecuteTime": {
     "end_time": "2020-04-10T18:32:17.355722Z",
     "start_time": "2020-04-10T18:32:15.394619Z"
    }
   },
   "outputs": [
    {
     "data": {
      "text/plain": [
       "0.9653885307091958"
      ]
     },
     "execution_count": 16,
     "metadata": {},
     "output_type": "execute_result"
    }
   ],
   "source": [
    "get_acc(X_test, Y_test, model)"
   ]
  },
  {
   "cell_type": "code",
   "execution_count": 17,
   "metadata": {
    "ExecuteTime": {
     "end_time": "2020-04-10T18:34:13.843426Z",
     "start_time": "2020-04-10T18:34:13.837673Z"
    }
   },
   "outputs": [
    {
     "data": {
      "text/plain": [
       "{'C': 1000, 'gamma': 0.0001}"
      ]
     },
     "execution_count": 17,
     "metadata": {},
     "output_type": "execute_result"
    }
   ],
   "source": [
    "#model.cv_results_\n",
    "model.best_params_"
   ]
  },
  {
   "cell_type": "code",
   "execution_count": 51,
   "metadata": {
    "ExecuteTime": {
     "end_time": "2020-04-10T22:22:24.731376Z",
     "start_time": "2020-04-10T22:22:24.721406Z"
    }
   },
   "outputs": [],
   "source": [
    "def plot_svm_grid(model):    \n",
    "    gammas = [0.01, 0.001, 0.0001, 0.00001]\n",
    "    Cs = [10, 100, 1000,10000]\n",
    "    scores = model.cv_results_['mean_test_score'].reshape(len(gammas),len(Cs))\n",
    "    print(scores)\n",
    "    plt.figure(figsize=(8, 6))\n",
    "    plt.subplots_adjust(left=.2, right=0.95, bottom=0.15, top=0.95)\n",
    "    plt.imshow(scores, interpolation='nearest', cmap=plt.cm.inferno)\n",
    "    plt.xlabel('Gamma')\n",
    "    plt.ylabel('C')\n",
    "    plt.colorbar()\n",
    "    plt.xticks(np.arange(len(gammas)), gammas)\n",
    "    plt.yticks(np.arange(len(Cs)), Cs)\n",
    "    plt.title('Grid Search Accuracy')\n",
    "    plt.show()"
   ]
  },
  {
   "cell_type": "code",
   "execution_count": 12,
   "metadata": {
    "ExecuteTime": {
     "end_time": "2020-04-10T21:54:10.841554Z",
     "start_time": "2020-04-10T21:54:10.832292Z"
    }
   },
   "outputs": [],
   "source": [
    "def cross_val_grid(data = data, model = 'svm'):\n",
    "    best_model = None\n",
    "    best_acc = 0\n",
    "    model_arr = [] #10 models from grid search\n",
    "    for i in range(10): #10 times\n",
    "        np.random.shuffle(data) #shuffle every time\n",
    "        clf = SVC()\n",
    "        parameters=[{'gamma': [0.01, 0.001, 0.0001, 0.00001], 'C': [10, 100, 1000,10000]}]\n",
    "        model=GridSearchCV(clf,parameters,n_jobs=-1,cv=10,verbose=10)\n",
    "        model.fit(data[:,:-1].tolist(),data[:,-1].tolist())\n",
    "        acc = model.best_score_\n",
    "        model_arr.append(model)\n",
    "        print(i, \"run accuracy =\", acc, \", params = \", model.best_params_)\n",
    "        if(acc > best_acc):\n",
    "            best_acc = acc\n",
    "            best_model = model\n",
    "    print(\"Best accuracy =\", best_acc, \", params = \", best_model.best_params_)\n",
    "    return best_model"
   ]
  },
  {
   "cell_type": "code",
   "execution_count": 27,
   "metadata": {
    "ExecuteTime": {
     "end_time": "2020-04-10T21:37:39.730180Z",
     "start_time": "2020-04-10T18:51:23.787854Z"
    }
   },
   "outputs": [
    {
     "name": "stdout",
     "output_type": "stream",
     "text": [
      "Fitting 10 folds for each of 16 candidates, totalling 160 fits\n"
     ]
    },
    {
     "name": "stderr",
     "output_type": "stream",
     "text": [
      "[Parallel(n_jobs=-1)]: Using backend LokyBackend with 8 concurrent workers.\n",
      "[Parallel(n_jobs=-1)]: Done   2 tasks      | elapsed:   46.4s\n",
      "[Parallel(n_jobs=-1)]: Done   9 tasks      | elapsed:  1.5min\n",
      "[Parallel(n_jobs=-1)]: Done  16 tasks      | elapsed:  2.0min\n",
      "[Parallel(n_jobs=-1)]: Done  25 tasks      | elapsed:  2.8min\n",
      "[Parallel(n_jobs=-1)]: Done  34 tasks      | elapsed:  3.8min\n",
      "[Parallel(n_jobs=-1)]: Done  45 tasks      | elapsed:  5.3min\n",
      "[Parallel(n_jobs=-1)]: Done  56 tasks      | elapsed:  6.2min\n",
      "[Parallel(n_jobs=-1)]: Done  69 tasks      | elapsed:  7.3min\n",
      "[Parallel(n_jobs=-1)]: Done  82 tasks      | elapsed:  9.0min\n",
      "[Parallel(n_jobs=-1)]: Done  97 tasks      | elapsed: 10.4min\n",
      "[Parallel(n_jobs=-1)]: Done 112 tasks      | elapsed: 11.7min\n",
      "[Parallel(n_jobs=-1)]: Done 129 tasks      | elapsed: 13.9min\n",
      "[Parallel(n_jobs=-1)]: Done 160 out of 160 | elapsed: 16.5min finished\n"
     ]
    },
    {
     "name": "stdout",
     "output_type": "stream",
     "text": [
      "0 run accuracy = 0.9893906420021763 , params =  {'C': 100, 'gamma': 0.001}\n",
      "Fitting 10 folds for each of 16 candidates, totalling 160 fits\n"
     ]
    },
    {
     "name": "stderr",
     "output_type": "stream",
     "text": [
      "[Parallel(n_jobs=-1)]: Using backend LokyBackend with 8 concurrent workers.\n",
      "[Parallel(n_jobs=-1)]: Done   2 tasks      | elapsed:   44.3s\n",
      "[Parallel(n_jobs=-1)]: Done   9 tasks      | elapsed:  1.5min\n",
      "[Parallel(n_jobs=-1)]: Done  16 tasks      | elapsed:  2.0min\n",
      "[Parallel(n_jobs=-1)]: Done  25 tasks      | elapsed:  2.8min\n",
      "[Parallel(n_jobs=-1)]: Done  34 tasks      | elapsed:  3.7min\n",
      "[Parallel(n_jobs=-1)]: Done  45 tasks      | elapsed:  5.2min\n",
      "[Parallel(n_jobs=-1)]: Done  56 tasks      | elapsed:  6.1min\n",
      "[Parallel(n_jobs=-1)]: Done  69 tasks      | elapsed:  7.2min\n",
      "[Parallel(n_jobs=-1)]: Done  82 tasks      | elapsed:  8.9min\n",
      "[Parallel(n_jobs=-1)]: Done  97 tasks      | elapsed: 10.2min\n",
      "[Parallel(n_jobs=-1)]: Done 112 tasks      | elapsed: 11.6min\n",
      "[Parallel(n_jobs=-1)]: Done 129 tasks      | elapsed: 13.8min\n",
      "[Parallel(n_jobs=-1)]: Done 160 out of 160 | elapsed: 16.4min finished\n"
     ]
    },
    {
     "name": "stdout",
     "output_type": "stream",
     "text": [
      "1 run accuracy = 0.9887105549510338 , params =  {'C': 100, 'gamma': 0.001}\n",
      "Fitting 10 folds for each of 16 candidates, totalling 160 fits\n"
     ]
    },
    {
     "name": "stderr",
     "output_type": "stream",
     "text": [
      "[Parallel(n_jobs=-1)]: Using backend LokyBackend with 8 concurrent workers.\n",
      "[Parallel(n_jobs=-1)]: Done   2 tasks      | elapsed:   44.4s\n",
      "[Parallel(n_jobs=-1)]: Done   9 tasks      | elapsed:  1.5min\n",
      "[Parallel(n_jobs=-1)]: Done  16 tasks      | elapsed:  2.0min\n",
      "[Parallel(n_jobs=-1)]: Done  25 tasks      | elapsed:  2.8min\n",
      "[Parallel(n_jobs=-1)]: Done  34 tasks      | elapsed:  3.8min\n",
      "[Parallel(n_jobs=-1)]: Done  45 tasks      | elapsed:  5.3min\n",
      "[Parallel(n_jobs=-1)]: Done  56 tasks      | elapsed:  6.1min\n",
      "[Parallel(n_jobs=-1)]: Done  69 tasks      | elapsed:  7.3min\n",
      "[Parallel(n_jobs=-1)]: Done  82 tasks      | elapsed:  8.9min\n",
      "[Parallel(n_jobs=-1)]: Done  97 tasks      | elapsed: 10.2min\n",
      "[Parallel(n_jobs=-1)]: Done 112 tasks      | elapsed: 11.5min\n",
      "[Parallel(n_jobs=-1)]: Done 129 tasks      | elapsed: 13.6min\n",
      "[Parallel(n_jobs=-1)]: Done 160 out of 160 | elapsed: 16.1min finished\n"
     ]
    },
    {
     "name": "stdout",
     "output_type": "stream",
     "text": [
      "2 run accuracy = 0.9877584330794341 , params =  {'C': 1000, 'gamma': 0.001}\n",
      "Fitting 10 folds for each of 16 candidates, totalling 160 fits\n"
     ]
    },
    {
     "name": "stderr",
     "output_type": "stream",
     "text": [
      "[Parallel(n_jobs=-1)]: Using backend LokyBackend with 8 concurrent workers.\n",
      "[Parallel(n_jobs=-1)]: Done   2 tasks      | elapsed:   43.1s\n",
      "[Parallel(n_jobs=-1)]: Done   9 tasks      | elapsed:  1.5min\n",
      "[Parallel(n_jobs=-1)]: Done  16 tasks      | elapsed:  1.9min\n",
      "[Parallel(n_jobs=-1)]: Done  25 tasks      | elapsed:  2.7min\n",
      "[Parallel(n_jobs=-1)]: Done  34 tasks      | elapsed:  3.7min\n",
      "[Parallel(n_jobs=-1)]: Done  45 tasks      | elapsed:  5.2min\n",
      "[Parallel(n_jobs=-1)]: Done  56 tasks      | elapsed:  6.1min\n",
      "[Parallel(n_jobs=-1)]: Done  69 tasks      | elapsed:  7.2min\n",
      "[Parallel(n_jobs=-1)]: Done  82 tasks      | elapsed:  8.9min\n",
      "[Parallel(n_jobs=-1)]: Done  97 tasks      | elapsed: 10.2min\n",
      "[Parallel(n_jobs=-1)]: Done 112 tasks      | elapsed: 11.5min\n",
      "[Parallel(n_jobs=-1)]: Done 129 tasks      | elapsed: 13.7min\n",
      "[Parallel(n_jobs=-1)]: Done 160 out of 160 | elapsed: 16.1min finished\n"
     ]
    },
    {
     "name": "stdout",
     "output_type": "stream",
     "text": [
      "3 run accuracy = 0.9885745375408053 , params =  {'C': 100, 'gamma': 0.001}\n",
      "Fitting 10 folds for each of 16 candidates, totalling 160 fits\n"
     ]
    },
    {
     "name": "stderr",
     "output_type": "stream",
     "text": [
      "[Parallel(n_jobs=-1)]: Using backend LokyBackend with 8 concurrent workers.\n",
      "[Parallel(n_jobs=-1)]: Done   2 tasks      | elapsed:   44.7s\n",
      "[Parallel(n_jobs=-1)]: Done   9 tasks      | elapsed:  1.5min\n",
      "[Parallel(n_jobs=-1)]: Done  16 tasks      | elapsed:  2.0min\n",
      "[Parallel(n_jobs=-1)]: Done  25 tasks      | elapsed:  2.9min\n",
      "[Parallel(n_jobs=-1)]: Done  34 tasks      | elapsed:  3.8min\n",
      "[Parallel(n_jobs=-1)]: Done  45 tasks      | elapsed:  5.4min\n",
      "[Parallel(n_jobs=-1)]: Done  56 tasks      | elapsed:  6.2min\n",
      "[Parallel(n_jobs=-1)]: Done  69 tasks      | elapsed:  7.3min\n",
      "[Parallel(n_jobs=-1)]: Done  82 tasks      | elapsed:  9.0min\n",
      "[Parallel(n_jobs=-1)]: Done  97 tasks      | elapsed: 10.3min\n",
      "[Parallel(n_jobs=-1)]: Done 112 tasks      | elapsed: 11.6min\n",
      "[Parallel(n_jobs=-1)]: Done 129 tasks      | elapsed: 13.9min\n",
      "[Parallel(n_jobs=-1)]: Done 160 out of 160 | elapsed: 16.5min finished\n"
     ]
    },
    {
     "name": "stdout",
     "output_type": "stream",
     "text": [
      "4 run accuracy = 0.9888465723612623 , params =  {'C': 100, 'gamma': 0.001}\n",
      "Fitting 10 folds for each of 16 candidates, totalling 160 fits\n"
     ]
    },
    {
     "name": "stderr",
     "output_type": "stream",
     "text": [
      "[Parallel(n_jobs=-1)]: Using backend LokyBackend with 8 concurrent workers.\n",
      "[Parallel(n_jobs=-1)]: Done   2 tasks      | elapsed:   46.5s\n",
      "[Parallel(n_jobs=-1)]: Done   9 tasks      | elapsed:  1.6min\n",
      "[Parallel(n_jobs=-1)]: Done  16 tasks      | elapsed:  2.0min\n",
      "[Parallel(n_jobs=-1)]: Done  25 tasks      | elapsed:  2.9min\n",
      "[Parallel(n_jobs=-1)]: Done  34 tasks      | elapsed:  3.8min\n",
      "[Parallel(n_jobs=-1)]: Done  45 tasks      | elapsed:  5.3min\n",
      "[Parallel(n_jobs=-1)]: Done  56 tasks      | elapsed:  6.2min\n",
      "[Parallel(n_jobs=-1)]: Done  69 tasks      | elapsed:  7.4min\n",
      "[Parallel(n_jobs=-1)]: Done  82 tasks      | elapsed:  9.1min\n",
      "[Parallel(n_jobs=-1)]: Done  97 tasks      | elapsed: 10.4min\n",
      "[Parallel(n_jobs=-1)]: Done 112 tasks      | elapsed: 11.8min\n",
      "[Parallel(n_jobs=-1)]: Done 129 tasks      | elapsed: 14.1min\n",
      "[Parallel(n_jobs=-1)]: Done 160 out of 160 | elapsed: 16.9min finished\n"
     ]
    },
    {
     "name": "stdout",
     "output_type": "stream",
     "text": [
      "5 run accuracy = 0.9889825897714908 , params =  {'C': 1000, 'gamma': 0.001}\n",
      "Fitting 10 folds for each of 16 candidates, totalling 160 fits\n"
     ]
    },
    {
     "name": "stderr",
     "output_type": "stream",
     "text": [
      "[Parallel(n_jobs=-1)]: Using backend LokyBackend with 8 concurrent workers.\n",
      "[Parallel(n_jobs=-1)]: Done   2 tasks      | elapsed:   46.8s\n",
      "[Parallel(n_jobs=-1)]: Done   9 tasks      | elapsed:  1.7min\n",
      "[Parallel(n_jobs=-1)]: Done  16 tasks      | elapsed:  2.2min\n",
      "[Parallel(n_jobs=-1)]: Done  25 tasks      | elapsed:  3.0min\n",
      "[Parallel(n_jobs=-1)]: Done  34 tasks      | elapsed:  4.0min\n",
      "[Parallel(n_jobs=-1)]: Done  45 tasks      | elapsed:  5.5min\n",
      "[Parallel(n_jobs=-1)]: Done  56 tasks      | elapsed:  6.4min\n",
      "[Parallel(n_jobs=-1)]: Done  69 tasks      | elapsed:  7.6min\n",
      "[Parallel(n_jobs=-1)]: Done  82 tasks      | elapsed:  9.4min\n",
      "[Parallel(n_jobs=-1)]: Done  97 tasks      | elapsed: 10.8min\n",
      "[Parallel(n_jobs=-1)]: Done 112 tasks      | elapsed: 12.2min\n",
      "[Parallel(n_jobs=-1)]: Done 129 tasks      | elapsed: 14.4min\n",
      "[Parallel(n_jobs=-1)]: Done 160 out of 160 | elapsed: 17.1min finished\n"
     ]
    },
    {
     "name": "stdout",
     "output_type": "stream",
     "text": [
      "6 run accuracy = 0.9893906420021763 , params =  {'C': 100, 'gamma': 0.001}\n",
      "Fitting 10 folds for each of 16 candidates, totalling 160 fits\n"
     ]
    },
    {
     "name": "stderr",
     "output_type": "stream",
     "text": [
      "[Parallel(n_jobs=-1)]: Using backend LokyBackend with 8 concurrent workers.\n",
      "[Parallel(n_jobs=-1)]: Done   2 tasks      | elapsed:   45.5s\n",
      "[Parallel(n_jobs=-1)]: Done   9 tasks      | elapsed:  1.6min\n",
      "[Parallel(n_jobs=-1)]: Done  16 tasks      | elapsed:  2.1min\n",
      "[Parallel(n_jobs=-1)]: Done  25 tasks      | elapsed:  3.0min\n",
      "[Parallel(n_jobs=-1)]: Done  34 tasks      | elapsed:  4.0min\n",
      "[Parallel(n_jobs=-1)]: Done  45 tasks      | elapsed:  5.7min\n",
      "[Parallel(n_jobs=-1)]: Done  56 tasks      | elapsed:  6.5min\n",
      "[Parallel(n_jobs=-1)]: Done  69 tasks      | elapsed:  7.7min\n",
      "[Parallel(n_jobs=-1)]: Done  82 tasks      | elapsed:  9.4min\n",
      "[Parallel(n_jobs=-1)]: Done  97 tasks      | elapsed: 10.8min\n",
      "[Parallel(n_jobs=-1)]: Done 112 tasks      | elapsed: 12.0min\n",
      "[Parallel(n_jobs=-1)]: Done 129 tasks      | elapsed: 14.2min\n",
      "[Parallel(n_jobs=-1)]: Done 160 out of 160 | elapsed: 16.8min finished\n"
     ]
    },
    {
     "name": "stdout",
     "output_type": "stream",
     "text": [
      "7 run accuracy = 0.9888465723612623 , params =  {'C': 100, 'gamma': 0.001}\n",
      "Fitting 10 folds for each of 16 candidates, totalling 160 fits\n"
     ]
    },
    {
     "name": "stderr",
     "output_type": "stream",
     "text": [
      "[Parallel(n_jobs=-1)]: Using backend LokyBackend with 8 concurrent workers.\n",
      "[Parallel(n_jobs=-1)]: Done   2 tasks      | elapsed:   46.0s\n",
      "[Parallel(n_jobs=-1)]: Done   9 tasks      | elapsed:  1.5min\n",
      "[Parallel(n_jobs=-1)]: Done  16 tasks      | elapsed:  2.0min\n",
      "[Parallel(n_jobs=-1)]: Done  25 tasks      | elapsed:  2.8min\n",
      "[Parallel(n_jobs=-1)]: Done  34 tasks      | elapsed:  3.7min\n",
      "[Parallel(n_jobs=-1)]: Done  45 tasks      | elapsed:  5.2min\n",
      "[Parallel(n_jobs=-1)]: Done  56 tasks      | elapsed:  6.0min\n",
      "[Parallel(n_jobs=-1)]: Done  69 tasks      | elapsed:  7.2min\n",
      "[Parallel(n_jobs=-1)]: Done  82 tasks      | elapsed:  8.8min\n",
      "[Parallel(n_jobs=-1)]: Done  97 tasks      | elapsed: 10.1min\n",
      "[Parallel(n_jobs=-1)]: Done 112 tasks      | elapsed: 11.4min\n",
      "[Parallel(n_jobs=-1)]: Done 129 tasks      | elapsed: 13.6min\n",
      "[Parallel(n_jobs=-1)]: Done 160 out of 160 | elapsed: 16.2min finished\n"
     ]
    },
    {
     "name": "stdout",
     "output_type": "stream",
     "text": [
      "8 run accuracy = 0.9885745375408053 , params =  {'C': 1000, 'gamma': 0.001}\n",
      "Fitting 10 folds for each of 16 candidates, totalling 160 fits\n"
     ]
    },
    {
     "name": "stderr",
     "output_type": "stream",
     "text": [
      "[Parallel(n_jobs=-1)]: Using backend LokyBackend with 8 concurrent workers.\n",
      "[Parallel(n_jobs=-1)]: Done   2 tasks      | elapsed:   46.8s\n",
      "[Parallel(n_jobs=-1)]: Done   9 tasks      | elapsed:  1.6min\n",
      "[Parallel(n_jobs=-1)]: Done  16 tasks      | elapsed:  2.1min\n",
      "[Parallel(n_jobs=-1)]: Done  25 tasks      | elapsed:  2.9min\n",
      "[Parallel(n_jobs=-1)]: Done  34 tasks      | elapsed:  3.9min\n",
      "[Parallel(n_jobs=-1)]: Done  45 tasks      | elapsed:  5.5min\n",
      "[Parallel(n_jobs=-1)]: Done  56 tasks      | elapsed:  6.4min\n",
      "[Parallel(n_jobs=-1)]: Done  69 tasks      | elapsed:  7.6min\n",
      "[Parallel(n_jobs=-1)]: Done  82 tasks      | elapsed:  9.2min\n",
      "[Parallel(n_jobs=-1)]: Done  97 tasks      | elapsed: 10.6min\n",
      "[Parallel(n_jobs=-1)]: Done 112 tasks      | elapsed: 11.9min\n",
      "[Parallel(n_jobs=-1)]: Done 129 tasks      | elapsed: 14.0min\n",
      "[Parallel(n_jobs=-1)]: Done 160 out of 160 | elapsed: 16.5min finished\n"
     ]
    },
    {
     "name": "stdout",
     "output_type": "stream",
     "text": [
      "9 run accuracy = 0.9877584330794341 , params =  {'C': 100, 'gamma': 0.001}\n",
      "Best accuracy = 0.9893906420021763 , params =  {'C': 100, 'gamma': 0.001}\n"
     ]
    }
   ],
   "source": [
    "best_svm = cross_val_grid()"
   ]
  },
  {
   "cell_type": "code",
   "execution_count": 32,
   "metadata": {
    "ExecuteTime": {
     "end_time": "2020-04-10T21:51:12.886009Z",
     "start_time": "2020-04-10T21:51:09.106779Z"
    }
   },
   "outputs": [
    {
     "data": {
      "text/plain": [
       "0.9633525619273838"
      ]
     },
     "execution_count": 32,
     "metadata": {},
     "output_type": "execute_result"
    }
   ],
   "source": [
    "get_acc(X_test, Y_test, best_svm)"
   ]
  },
  {
   "cell_type": "code",
   "execution_count": 52,
   "metadata": {
    "ExecuteTime": {
     "end_time": "2020-04-10T22:22:42.951041Z",
     "start_time": "2020-04-10T22:22:42.801585Z"
    }
   },
   "outputs": [
    {
     "name": "stdout",
     "output_type": "stream",
     "text": [
      "[[0.94382481, 0.98571817, 0.97674102, 0.94572905], [0.94382481, 0.98939064, 0.98408596, 0.97646899], [0.94382481, 0.98925462, 0.98775843, 0.98408596], [0.94382481, 0.98925462, 0.98612622, 0.98571817]]\n"
     ]
    },
    {
     "data": {
      "image/png": "[encoded data removed]",
      "text/plain": [
       "<Figure size 576x432 with 2 Axes>"
      ]
     },
     "metadata": {
      "needs_background": "light"
     },
     "output_type": "display_data"
    }
   ],
   "source": [
    "plot_svm_grid(best_svm)"
   ]
  },
  {
   "cell_type": "code",
   "execution_count": 13,
   "metadata": {
    "ExecuteTime": {
     "end_time": "2020-04-10T22:03:15.121651Z",
     "start_time": "2020-04-10T21:54:16.678816Z"
    }
   },
   "outputs": [
    {
     "name": "stdout",
     "output_type": "stream",
     "text": [
      "Fitting 10 folds for each of 16 candidates, totalling 160 fits\n"
     ]
    },
    {
     "name": "stderr",
     "output_type": "stream",
     "text": [
      "[Parallel(n_jobs=-1)]: Using backend LokyBackend with 8 concurrent workers.\n",
      "[Parallel(n_jobs=-1)]: Done   2 tasks      | elapsed:    2.4s\n",
      "[Parallel(n_jobs=-1)]: Done   9 tasks      | elapsed:    4.1s\n",
      "[Parallel(n_jobs=-1)]: Done  16 tasks      | elapsed:    5.3s\n",
      "[Parallel(n_jobs=-1)]: Done  25 tasks      | elapsed:    7.6s\n",
      "[Parallel(n_jobs=-1)]: Done  34 tasks      | elapsed:   10.3s\n",
      "[Parallel(n_jobs=-1)]: Done  45 tasks      | elapsed:   13.9s\n",
      "[Parallel(n_jobs=-1)]: Done  56 tasks      | elapsed:   16.7s\n",
      "[Parallel(n_jobs=-1)]: Done  69 tasks      | elapsed:   19.8s\n",
      "[Parallel(n_jobs=-1)]: Done  82 tasks      | elapsed:   24.3s\n",
      "[Parallel(n_jobs=-1)]: Done  97 tasks      | elapsed:   29.3s\n",
      "[Parallel(n_jobs=-1)]: Done 112 tasks      | elapsed:   32.8s\n",
      "[Parallel(n_jobs=-1)]: Done 129 tasks      | elapsed:   40.1s\n",
      "[Parallel(n_jobs=-1)]: Done 160 out of 160 | elapsed:   53.5s finished\n"
     ]
    },
    {
     "name": "stdout",
     "output_type": "stream",
     "text": [
      "0 run accuracy = 0.9370239390642002 , params =  {'C': 10, 'gamma': 0.01}\n",
      "Fitting 10 folds for each of 16 candidates, totalling 160 fits\n"
     ]
    },
    {
     "name": "stderr",
     "output_type": "stream",
     "text": [
      "[Parallel(n_jobs=-1)]: Using backend LokyBackend with 8 concurrent workers.\n",
      "[Parallel(n_jobs=-1)]: Done   2 tasks      | elapsed:    1.2s\n",
      "[Parallel(n_jobs=-1)]: Done   9 tasks      | elapsed:    3.1s\n",
      "[Parallel(n_jobs=-1)]: Done  16 tasks      | elapsed:    4.6s\n",
      "[Parallel(n_jobs=-1)]: Done  25 tasks      | elapsed:    6.9s\n",
      "[Parallel(n_jobs=-1)]: Done  34 tasks      | elapsed:    9.6s\n",
      "[Parallel(n_jobs=-1)]: Done  45 tasks      | elapsed:   13.2s\n",
      "[Parallel(n_jobs=-1)]: Done  56 tasks      | elapsed:   16.2s\n",
      "[Parallel(n_jobs=-1)]: Done  69 tasks      | elapsed:   19.6s\n",
      "[Parallel(n_jobs=-1)]: Done  82 tasks      | elapsed:   24.1s\n",
      "[Parallel(n_jobs=-1)]: Done  97 tasks      | elapsed:   28.9s\n",
      "[Parallel(n_jobs=-1)]: Done 112 tasks      | elapsed:   32.6s\n",
      "[Parallel(n_jobs=-1)]: Done 129 tasks      | elapsed:   39.9s\n",
      "[Parallel(n_jobs=-1)]: Done 160 out of 160 | elapsed:   53.5s finished\n"
     ]
    },
    {
     "name": "stdout",
     "output_type": "stream",
     "text": [
      "1 run accuracy = 0.934575625680087 , params =  {'C': 10, 'gamma': 0.01}\n",
      "Fitting 10 folds for each of 16 candidates, totalling 160 fits\n"
     ]
    },
    {
     "name": "stderr",
     "output_type": "stream",
     "text": [
      "[Parallel(n_jobs=-1)]: Using backend LokyBackend with 8 concurrent workers.\n",
      "[Parallel(n_jobs=-1)]: Done   2 tasks      | elapsed:    1.1s\n",
      "[Parallel(n_jobs=-1)]: Done   9 tasks      | elapsed:    2.9s\n",
      "[Parallel(n_jobs=-1)]: Done  16 tasks      | elapsed:    4.4s\n",
      "[Parallel(n_jobs=-1)]: Done  25 tasks      | elapsed:    6.8s\n",
      "[Parallel(n_jobs=-1)]: Done  34 tasks      | elapsed:    9.5s\n",
      "[Parallel(n_jobs=-1)]: Done  45 tasks      | elapsed:   13.0s\n",
      "[Parallel(n_jobs=-1)]: Done  56 tasks      | elapsed:   15.7s\n",
      "[Parallel(n_jobs=-1)]: Done  69 tasks      | elapsed:   18.8s\n",
      "[Parallel(n_jobs=-1)]: Done  82 tasks      | elapsed:   24.1s\n",
      "[Parallel(n_jobs=-1)]: Done  97 tasks      | elapsed:   28.9s\n",
      "[Parallel(n_jobs=-1)]: Done 112 tasks      | elapsed:   32.4s\n",
      "[Parallel(n_jobs=-1)]: Done 129 tasks      | elapsed:   39.6s\n",
      "[Parallel(n_jobs=-1)]: Done 160 out of 160 | elapsed:   53.1s finished\n"
     ]
    },
    {
     "name": "stdout",
     "output_type": "stream",
     "text": [
      "2 run accuracy = 0.9357997823721437 , params =  {'C': 100, 'gamma': 0.01}\n",
      "Fitting 10 folds for each of 16 candidates, totalling 160 fits\n"
     ]
    },
    {
     "name": "stderr",
     "output_type": "stream",
     "text": [
      "[Parallel(n_jobs=-1)]: Using backend LokyBackend with 8 concurrent workers.\n",
      "[Parallel(n_jobs=-1)]: Done   2 tasks      | elapsed:    1.1s\n",
      "[Parallel(n_jobs=-1)]: Done   9 tasks      | elapsed:    2.9s\n",
      "[Parallel(n_jobs=-1)]: Done  16 tasks      | elapsed:    4.5s\n",
      "[Parallel(n_jobs=-1)]: Done  25 tasks      | elapsed:    7.2s\n",
      "[Parallel(n_jobs=-1)]: Done  34 tasks      | elapsed:   10.4s\n",
      "[Parallel(n_jobs=-1)]: Done  45 tasks      | elapsed:   13.8s\n",
      "[Parallel(n_jobs=-1)]: Done  56 tasks      | elapsed:   16.5s\n",
      "[Parallel(n_jobs=-1)]: Done  69 tasks      | elapsed:   19.6s\n",
      "[Parallel(n_jobs=-1)]: Done  82 tasks      | elapsed:   24.2s\n",
      "[Parallel(n_jobs=-1)]: Done  97 tasks      | elapsed:   28.7s\n",
      "[Parallel(n_jobs=-1)]: Done 112 tasks      | elapsed:   32.3s\n",
      "[Parallel(n_jobs=-1)]: Done 129 tasks      | elapsed:   39.6s\n",
      "[Parallel(n_jobs=-1)]: Done 160 out of 160 | elapsed:   53.0s finished\n"
     ]
    },
    {
     "name": "stdout",
     "output_type": "stream",
     "text": [
      "3 run accuracy = 0.9381120783460283 , params =  {'C': 10, 'gamma': 0.01}\n",
      "Fitting 10 folds for each of 16 candidates, totalling 160 fits\n"
     ]
    },
    {
     "name": "stderr",
     "output_type": "stream",
     "text": [
      "[Parallel(n_jobs=-1)]: Using backend LokyBackend with 8 concurrent workers.\n",
      "[Parallel(n_jobs=-1)]: Done   2 tasks      | elapsed:    1.2s\n",
      "[Parallel(n_jobs=-1)]: Done   9 tasks      | elapsed:    3.2s\n",
      "[Parallel(n_jobs=-1)]: Done  16 tasks      | elapsed:    4.9s\n",
      "[Parallel(n_jobs=-1)]: Done  25 tasks      | elapsed:    7.3s\n",
      "[Parallel(n_jobs=-1)]: Done  34 tasks      | elapsed:   10.1s\n",
      "[Parallel(n_jobs=-1)]: Done  45 tasks      | elapsed:   13.9s\n",
      "[Parallel(n_jobs=-1)]: Done  56 tasks      | elapsed:   16.8s\n",
      "[Parallel(n_jobs=-1)]: Done  69 tasks      | elapsed:   20.1s\n",
      "[Parallel(n_jobs=-1)]: Done  82 tasks      | elapsed:   24.9s\n",
      "[Parallel(n_jobs=-1)]: Done  97 tasks      | elapsed:   29.7s\n",
      "[Parallel(n_jobs=-1)]: Done 112 tasks      | elapsed:   33.2s\n",
      "[Parallel(n_jobs=-1)]: Done 129 tasks      | elapsed:   40.7s\n",
      "[Parallel(n_jobs=-1)]: Done 160 out of 160 | elapsed:   54.3s finished\n"
     ]
    },
    {
     "name": "stdout",
     "output_type": "stream",
     "text": [
      "4 run accuracy = 0.9374319912948857 , params =  {'C': 10, 'gamma': 0.01}\n",
      "Fitting 10 folds for each of 16 candidates, totalling 160 fits\n"
     ]
    },
    {
     "name": "stderr",
     "output_type": "stream",
     "text": [
      "[Parallel(n_jobs=-1)]: Using backend LokyBackend with 8 concurrent workers.\n",
      "[Parallel(n_jobs=-1)]: Done   2 tasks      | elapsed:    1.1s\n",
      "[Parallel(n_jobs=-1)]: Done   9 tasks      | elapsed:    3.0s\n",
      "[Parallel(n_jobs=-1)]: Done  16 tasks      | elapsed:    4.6s\n",
      "[Parallel(n_jobs=-1)]: Done  25 tasks      | elapsed:    7.0s\n",
      "[Parallel(n_jobs=-1)]: Done  34 tasks      | elapsed:    9.7s\n",
      "[Parallel(n_jobs=-1)]: Done  45 tasks      | elapsed:   13.4s\n",
      "[Parallel(n_jobs=-1)]: Done  56 tasks      | elapsed:   16.0s\n",
      "[Parallel(n_jobs=-1)]: Done  69 tasks      | elapsed:   19.2s\n",
      "[Parallel(n_jobs=-1)]: Done  82 tasks      | elapsed:   23.8s\n",
      "[Parallel(n_jobs=-1)]: Done  97 tasks      | elapsed:   28.5s\n",
      "[Parallel(n_jobs=-1)]: Done 112 tasks      | elapsed:   32.1s\n",
      "[Parallel(n_jobs=-1)]: Done 129 tasks      | elapsed:   39.4s\n",
      "[Parallel(n_jobs=-1)]: Done 160 out of 160 | elapsed:   52.5s finished\n"
     ]
    },
    {
     "name": "stdout",
     "output_type": "stream",
     "text": [
      "5 run accuracy = 0.9359357997823722 , params =  {'C': 10, 'gamma': 0.01}\n",
      "Fitting 10 folds for each of 16 candidates, totalling 160 fits\n"
     ]
    },
    {
     "name": "stderr",
     "output_type": "stream",
     "text": [
      "[Parallel(n_jobs=-1)]: Using backend LokyBackend with 8 concurrent workers.\n",
      "[Parallel(n_jobs=-1)]: Done   2 tasks      | elapsed:    1.1s\n",
      "[Parallel(n_jobs=-1)]: Done   9 tasks      | elapsed:    3.0s\n",
      "[Parallel(n_jobs=-1)]: Done  16 tasks      | elapsed:    4.5s\n",
      "[Parallel(n_jobs=-1)]: Done  25 tasks      | elapsed:    6.9s\n",
      "[Parallel(n_jobs=-1)]: Done  34 tasks      | elapsed:    9.5s\n",
      "[Parallel(n_jobs=-1)]: Done  45 tasks      | elapsed:   13.0s\n",
      "[Parallel(n_jobs=-1)]: Done  56 tasks      | elapsed:   15.8s\n",
      "[Parallel(n_jobs=-1)]: Done  69 tasks      | elapsed:   18.9s\n",
      "[Parallel(n_jobs=-1)]: Done  82 tasks      | elapsed:   23.7s\n",
      "[Parallel(n_jobs=-1)]: Done  97 tasks      | elapsed:   28.4s\n",
      "[Parallel(n_jobs=-1)]: Done 112 tasks      | elapsed:   31.9s\n",
      "[Parallel(n_jobs=-1)]: Done 129 tasks      | elapsed:   39.0s\n",
      "[Parallel(n_jobs=-1)]: Done 160 out of 160 | elapsed:   52.7s finished\n"
     ]
    },
    {
     "name": "stdout",
     "output_type": "stream",
     "text": [
      "6 run accuracy = 0.9344396082698585 , params =  {'C': 10, 'gamma': 0.01}\n",
      "Fitting 10 folds for each of 16 candidates, totalling 160 fits\n"
     ]
    },
    {
     "name": "stderr",
     "output_type": "stream",
     "text": [
      "[Parallel(n_jobs=-1)]: Using backend LokyBackend with 8 concurrent workers.\n",
      "[Parallel(n_jobs=-1)]: Done   2 tasks      | elapsed:    1.2s\n",
      "[Parallel(n_jobs=-1)]: Done   9 tasks      | elapsed:    3.2s\n",
      "[Parallel(n_jobs=-1)]: Done  16 tasks      | elapsed:    4.8s\n",
      "[Parallel(n_jobs=-1)]: Done  25 tasks      | elapsed:    7.1s\n",
      "[Parallel(n_jobs=-1)]: Done  34 tasks      | elapsed:    9.7s\n",
      "[Parallel(n_jobs=-1)]: Done  45 tasks      | elapsed:   13.3s\n",
      "[Parallel(n_jobs=-1)]: Done  56 tasks      | elapsed:   16.0s\n",
      "[Parallel(n_jobs=-1)]: Done  69 tasks      | elapsed:   19.2s\n",
      "[Parallel(n_jobs=-1)]: Done  82 tasks      | elapsed:   24.0s\n",
      "[Parallel(n_jobs=-1)]: Done  97 tasks      | elapsed:   28.5s\n",
      "[Parallel(n_jobs=-1)]: Done 112 tasks      | elapsed:   32.1s\n",
      "[Parallel(n_jobs=-1)]: Done 129 tasks      | elapsed:   39.3s\n",
      "[Parallel(n_jobs=-1)]: Done 160 out of 160 | elapsed:   52.6s finished\n"
     ]
    },
    {
     "name": "stdout",
     "output_type": "stream",
     "text": [
      "7 run accuracy = 0.9352557127312296 , params =  {'C': 100, 'gamma': 0.001}\n",
      "Fitting 10 folds for each of 16 candidates, totalling 160 fits\n"
     ]
    },
    {
     "name": "stderr",
     "output_type": "stream",
     "text": [
      "[Parallel(n_jobs=-1)]: Using backend LokyBackend with 8 concurrent workers.\n",
      "[Parallel(n_jobs=-1)]: Done   2 tasks      | elapsed:    1.1s\n",
      "[Parallel(n_jobs=-1)]: Done   9 tasks      | elapsed:    3.0s\n",
      "[Parallel(n_jobs=-1)]: Done  16 tasks      | elapsed:    4.6s\n",
      "[Parallel(n_jobs=-1)]: Done  25 tasks      | elapsed:    6.9s\n",
      "[Parallel(n_jobs=-1)]: Done  34 tasks      | elapsed:    9.6s\n",
      "[Parallel(n_jobs=-1)]: Done  45 tasks      | elapsed:   13.1s\n",
      "[Parallel(n_jobs=-1)]: Done  56 tasks      | elapsed:   15.8s\n",
      "[Parallel(n_jobs=-1)]: Done  69 tasks      | elapsed:   19.0s\n",
      "[Parallel(n_jobs=-1)]: Done  82 tasks      | elapsed:   23.6s\n",
      "[Parallel(n_jobs=-1)]: Done  97 tasks      | elapsed:   28.8s\n",
      "[Parallel(n_jobs=-1)]: Done 112 tasks      | elapsed:   32.8s\n",
      "[Parallel(n_jobs=-1)]: Done 129 tasks      | elapsed:   40.5s\n",
      "[Parallel(n_jobs=-1)]: Done 160 out of 160 | elapsed:   53.6s finished\n"
     ]
    },
    {
     "name": "stdout",
     "output_type": "stream",
     "text": [
      "8 run accuracy = 0.9353917301414582 , params =  {'C': 100, 'gamma': 0.001}\n",
      "Fitting 10 folds for each of 16 candidates, totalling 160 fits\n"
     ]
    },
    {
     "name": "stderr",
     "output_type": "stream",
     "text": [
      "[Parallel(n_jobs=-1)]: Using backend LokyBackend with 8 concurrent workers.\n",
      "[Parallel(n_jobs=-1)]: Done   2 tasks      | elapsed:    1.1s\n",
      "[Parallel(n_jobs=-1)]: Done   9 tasks      | elapsed:    3.0s\n",
      "[Parallel(n_jobs=-1)]: Done  16 tasks      | elapsed:    4.7s\n",
      "[Parallel(n_jobs=-1)]: Done  25 tasks      | elapsed:    7.0s\n",
      "[Parallel(n_jobs=-1)]: Done  34 tasks      | elapsed:    9.7s\n",
      "[Parallel(n_jobs=-1)]: Done  45 tasks      | elapsed:   13.3s\n",
      "[Parallel(n_jobs=-1)]: Done  56 tasks      | elapsed:   16.6s\n",
      "[Parallel(n_jobs=-1)]: Done  69 tasks      | elapsed:   20.0s\n",
      "[Parallel(n_jobs=-1)]: Done  82 tasks      | elapsed:   24.6s\n",
      "[Parallel(n_jobs=-1)]: Done  97 tasks      | elapsed:   29.2s\n",
      "[Parallel(n_jobs=-1)]: Done 112 tasks      | elapsed:   32.7s\n",
      "[Parallel(n_jobs=-1)]: Done 129 tasks      | elapsed:   39.8s\n",
      "[Parallel(n_jobs=-1)]: Done 160 out of 160 | elapsed:   52.9s finished\n"
     ]
    },
    {
     "name": "stdout",
     "output_type": "stream",
     "text": [
      "9 run accuracy = 0.9355277475516867 , params =  {'C': 10, 'gamma': 0.01}\n",
      "Best accuracy = 0.9381120783460283 , params =  {'C': 10, 'gamma': 0.01}\n"
     ]
    },
    {
     "ename": "NameError",
     "evalue": "name 'plot_svm_grid' is not defined",
     "output_type": "error",
     "traceback": [
      "\u001b[0;31m-----------------\u001b[0m",
      "\u001b[0;31mNameError\u001b[0mTraceback (most recent call last)",
      "\u001b[0;32m<ipython-input-13-599b4f1f1f0d>\u001b[0m in \u001b[0;36m<module>\u001b[0;34m\u001b[0m\n\u001b[1;32m      2\u001b[0m \u001b[0mparameters\u001b[0m\u001b[0;34m=\u001b[0m\u001b[0;34m[\u001b[0m\u001b[0;34m{\u001b[0m\u001b[0;34m'gamma'\u001b[0m\u001b[0;34m:\u001b[0m \u001b[0;34m[\u001b[0m\u001b[0;36m0.01\u001b[0m\u001b[0;34m,\u001b[0m \u001b[0;36m0.001\u001b[0m\u001b[0;34m,\u001b[0m \u001b[0;36m0.0001\u001b[0m\u001b[0;34m,\u001b[0m \u001b[0;36m0.00001\u001b[0m\u001b[0;34m]\u001b[0m\u001b[0;34m,\u001b[0m \u001b[0;34m'C'\u001b[0m\u001b[0;34m:\u001b[0m \u001b[0;34m[\u001b[0m\u001b[0;36m10\u001b[0m\u001b[0;34m,\u001b[0m \u001b[0;36m100\u001b[0m\u001b[0;34m,\u001b[0m \u001b[0;36m1000\u001b[0m\u001b[0;34m,\u001b[0m\u001b[0;36m10000\u001b[0m\u001b[0;34m]\u001b[0m\u001b[0;34m}\u001b[0m\u001b[0;34m]\u001b[0m\u001b[0;34m\u001b[0m\u001b[0;34m\u001b[0m\u001b[0m\n\u001b[1;32m      3\u001b[0m \u001b[0mbest_svm_pca\u001b[0m \u001b[0;34m=\u001b[0m \u001b[0mcross_val_grid\u001b[0m\u001b[0;34m(\u001b[0m\u001b[0mdata\u001b[0m \u001b[0;34m=\u001b[0m \u001b[0mdata_pca\u001b[0m\u001b[0;34m)\u001b[0m\u001b[0;34m\u001b[0m\u001b[0;34m\u001b[0m\u001b[0m\n\u001b[0;32m----> 4\u001b[0;31m \u001b[0mplot_svm_grid\u001b[0m\u001b[0;34m(\u001b[0m\u001b[0mbest_svm_pca\u001b[0m\u001b[0;34m)\u001b[0m\u001b[0;34m\u001b[0m\u001b[0;34m\u001b[0m\u001b[0m\n\u001b[0m",
      "\u001b[0;31mNameError\u001b[0m: name 'plot_svm_grid' is not defined"
     ]
    }
   ],
   "source": [
    "best_svm_pca = cross_val_grid(data = data_pca)"
   ]
  },
  {
   "cell_type": "code",
   "execution_count": 15,
   "metadata": {
    "ExecuteTime": {
     "end_time": "2020-04-10T22:08:14.417798Z",
     "start_time": "2020-04-10T22:08:14.245450Z"
    }
   },
   "outputs": [
    {
     "name": "stdout",
     "output_type": "stream",
     "text": [
      "[[0.93811208 0.92777476 0.90669206 0.88424918]\n",
      " [0.93239935 0.93552775 0.91988575 0.90356366]\n",
      " [0.92723069 0.93498368 0.92682263 0.91417301]\n",
      " [0.92355822 0.93076714 0.92940696 0.92097388]]\n"
     ]
    },
    {
     "data": {
      "image/png": "[encoded data removed]",
      "text/plain": [
       "<Figure size 576x432 with 2 Axes>"
      ]
     },
     "metadata": {
      "needs_background": "light"
     },
     "output_type": "display_data"
    }
   ],
   "source": [
    "plot_svm_grid(best_svm_pca)"
   ]
  },
  {
   "cell_type": "code",
   "execution_count": 16,
   "metadata": {
    "ExecuteTime": {
     "end_time": "2020-04-10T22:08:28.014984Z",
     "start_time": "2020-04-10T22:08:27.773885Z"
    }
   },
   "outputs": [
    {
     "data": {
      "text/plain": [
       "0.8863250763488293"
      ]
     },
     "execution_count": 16,
     "metadata": {},
     "output_type": "execute_result"
    }
   ],
   "source": [
    "get_acc(X_test_pca, Y_test, best_svm_pca)"
   ]
  },
  {
   "cell_type": "markdown",
   "metadata": {},
   "source": [
    "# 4. Comparison with other classifiers"
   ]
  },
  {
   "cell_type": "code",
   "execution_count": 46,
   "metadata": {
    "ExecuteTime": {
     "end_time": "2020-04-10T22:17:49.152133Z",
     "start_time": "2020-04-10T22:17:45.211222Z"
    }
   },
   "outputs": [],
   "source": [
    "# DT on raw data\n",
    "dt = DecisionTreeClassifier()\n",
    "dt = dt.fit(X_train,Y_train)"
   ]
  },
  {
   "cell_type": "code",
   "execution_count": 47,
   "metadata": {
    "ExecuteTime": {
     "end_time": "2020-04-10T22:17:49.163814Z",
     "start_time": "2020-04-10T22:17:49.154006Z"
    }
   },
   "outputs": [
    {
     "data": {
      "text/plain": [
       "0.8008143875127248"
      ]
     },
     "execution_count": 47,
     "metadata": {},
     "output_type": "execute_result"
    }
   ],
   "source": [
    "get_acc(X_test, Y_test, dt)"
   ]
  },
  {
   "cell_type": "code",
   "execution_count": 45,
   "metadata": {
    "ExecuteTime": {
     "end_time": "2020-04-10T22:17:43.858374Z",
     "start_time": "2020-04-10T22:17:43.702970Z"
    }
   },
   "outputs": [],
   "source": [
    "# DT on pca\n",
    "dt_pca = DecisionTreeClassifier()\n",
    "dt_pca = dt_pca.fit(X_train_pca,Y_train)"
   ]
  },
  {
   "cell_type": "code",
   "execution_count": 48,
   "metadata": {
    "ExecuteTime": {
     "end_time": "2020-04-10T22:17:49.171373Z",
     "start_time": "2020-04-10T22:17:49.165739Z"
    }
   },
   "outputs": [
    {
     "data": {
      "text/plain": [
       "0.7743467933491687"
      ]
     },
     "execution_count": 48,
     "metadata": {},
     "output_type": "execute_result"
    }
   ],
   "source": [
    "get_acc(X_test_pca, Y_test, dt_pca)"
   ]
  },
  {
   "cell_type": "code",
   "execution_count": 38,
   "metadata": {
    "ExecuteTime": {
     "end_time": "2020-04-10T22:16:17.104528Z",
     "start_time": "2020-04-10T22:16:07.966775Z"
    }
   },
   "outputs": [
    {
     "name": "stdout",
     "output_type": "stream",
     "text": [
      "0.9633525619273838\n"
     ]
    }
   ],
   "source": [
    "best_svm = SVC(C=100, gamma = 0.001)\n",
    "best_svm.fit(X_train, Y_train)\n",
    "acc = get_acc(X_test, Y_test, best_model)\n",
    "print(acc)"
   ]
  },
  {
   "cell_type": "code",
   "execution_count": 15,
   "metadata": {
    "ExecuteTime": {
     "end_time": "2020-04-11T01:47:09.195691Z",
     "start_time": "2020-04-11T01:47:09.186021Z"
    }
   },
   "outputs": [],
   "source": [
    "def print_conf(X, Y, model):\n",
    "    activities = {1:'WALKING', 2:'WALKING_UPSTAIRS', 3:'WALKING_DOWNSTAIRS', 4:'SITTING', 5:'STANDING', 6:'LAYING'}\n",
    "    Y_pred = model.predict(X)\n",
    "    array = np.zeros((np.unique(Y).shape[0], np.unique(Y).shape[0])) # confusion matrix\n",
    "    for i, y in enumerate(Y_pred):\n",
    "        array[int(y)-1][int(Y[i])-1]+=1\n",
    "    print(array)\n",
    "    plt.figure(figsize=(10,7))\n",
    "    \n",
    "    sn.heatmap(array, annot=True, fmt='g', xticklabels = list(activities.values()), yticklabels = list(activities.values())) # font size\n",
    "    plt.show()"
   ]
  },
  {
   "cell_type": "code",
   "execution_count": 39,
   "metadata": {
    "ExecuteTime": {
     "end_time": "2020-04-10T22:16:21.048187Z",
     "start_time": "2020-04-10T22:16:17.106425Z"
    }
   },
   "outputs": [
    {
     "name": "stdout",
     "output_type": "stream",
     "text": [
      "[[477.   4.   4.   0.   0.   0.]\n",
      " [  9. 465.  20.   1.   0.   0.]\n",
      " [ 10.   2. 396.   0.   0.   0.]\n",
      " [  0.   0.   0. 451.  19.   0.]\n",
      " [  0.   0.   0.  37. 513.   0.]\n",
      " [  0.   0.   0.   2.   0. 537.]]\n"
     ]
    },
    {
     "data": {
      "image/png": "[encoded data removed]",
      "text/plain": [
       "<Figure size 720x504 with 2 Axes>"
      ]
     },
     "metadata": {
      "needs_background": "light"
     },
     "output_type": "display_data"
    }
   ],
   "source": [
    "print_conf(X_test, Y_test,best_svm)"
   ]
  },
  {
   "cell_type": "code",
   "execution_count": 41,
   "metadata": {
    "ExecuteTime": {
     "end_time": "2020-04-10T22:16:32.431223Z",
     "start_time": "2020-04-10T22:16:31.961254Z"
    }
   },
   "outputs": [
    {
     "name": "stdout",
     "output_type": "stream",
     "text": [
      "[[447.  28.  18.   0.   0.   0.]\n",
      " [  7. 426.  36.   0.   0.   0.]\n",
      " [ 42.  17. 366.   3.   2.   2.]\n",
      " [  0.   0.   0. 434. 103.  21.]\n",
      " [  0.   0.   0.  51. 427.   2.]\n",
      " [  0.   0.   0.   3.   0. 512.]]\n"
     ]
    },
    {
     "data": {
      "image/png": "[encoded data removed]",
      "text/plain": [
       "<Figure size 720x504 with 2 Axes>"
      ]
     },
     "metadata": {
      "needs_background": "light"
     },
     "output_type": "display_data"
    }
   ],
   "source": [
    "print_conf(X_test_pca, Y_test,best_svm_pca)"
   ]
  },
  {
   "cell_type": "code",
   "execution_count": 49,
   "metadata": {
    "ExecuteTime": {
     "end_time": "2020-04-10T22:17:52.936072Z",
     "start_time": "2020-04-10T22:17:52.671733Z"
    }
   },
   "outputs": [
    {
     "name": "stdout",
     "output_type": "stream",
     "text": [
      "[[408.  52.  14.   0.   0.   0.]\n",
      " [ 52. 369.  39.   0.   0.   0.]\n",
      " [ 36.  50. 367.   0.   0.   0.]\n",
      " [  0.   0.   0. 429. 282.   0.]\n",
      " [  0.   0.   0.  62. 250.   0.]\n",
      " [  0.   0.   0.   0.   0. 537.]]\n"
     ]
    },
    {
     "data": {
      "image/png": "[encoded data removed]",
      "text/plain": [
       "<Figure size 720x504 with 2 Axes>"
      ]
     },
     "metadata": {
      "needs_background": "light"
     },
     "output_type": "display_data"
    }
   ],
   "source": [
    "print_conf(X_test, Y_test, dt)"
   ]
  },
  {
   "cell_type": "code",
   "execution_count": 50,
   "metadata": {
    "ExecuteTime": {
     "end_time": "2020-04-10T22:17:53.177537Z",
     "start_time": "2020-04-10T22:17:52.938332Z"
    }
   },
   "outputs": [
    {
     "name": "stdout",
     "output_type": "stream",
     "text": [
      "[[389.  47.  58.   0.   0.   0.]\n",
      " [ 33. 376.  66.   1.   0.   0.]\n",
      " [ 74.  48. 296.   0.   0.   0.]\n",
      " [  0.   0.   0. 340. 144.  36.]\n",
      " [  0.   0.   0. 142. 382.   2.]\n",
      " [  0.   0.   0.   8.   6. 499.]]\n"
     ]
    },
    {
     "data": {
      "image/png": "[encoded data removed]",
      "text/plain": [
       "<Figure size 720x504 with 2 Axes>"
      ]
     },
     "metadata": {
      "needs_background": "light"
     },
     "output_type": "display_data"
    }
   ],
   "source": [
    "print_conf(X_test_pca, Y_test,dt_pca)"
   ]
  },
  {
   "cell_type": "code",
   "execution_count": 61,
   "metadata": {
    "ExecuteTime": {
     "end_time": "2020-04-10T22:33:32.541588Z",
     "start_time": "2020-04-10T22:33:32.405299Z"
    }
   },
   "outputs": [
    {
     "data": {
      "text/plain": [
       "KNeighborsClassifier(algorithm='auto', leaf_size=30, metric='minkowski',\n",
       "                     metric_params=None, n_jobs=None, n_neighbors=4, p=2,\n",
       "                     weights='uniform')"
      ]
     },
     "execution_count": 61,
     "metadata": {},
     "output_type": "execute_result"
    }
   ],
   "source": [
    "neigh = KNeighborsClassifier(n_neighbors=4)\n",
    "neigh.fit(X_train, Y_train)"
   ]
  },
  {
   "cell_type": "code",
   "execution_count": 62,
   "metadata": {
    "ExecuteTime": {
     "end_time": "2020-04-10T22:33:48.896593Z",
     "start_time": "2020-04-10T22:33:32.670344Z"
    }
   },
   "outputs": [
    {
     "data": {
      "text/plain": [
       "0.8744485917882593"
      ]
     },
     "execution_count": 62,
     "metadata": {},
     "output_type": "execute_result"
    }
   ],
   "source": [
    "get_acc(X_test, Y_test, neigh)"
   ]
  },
  {
   "cell_type": "code",
   "execution_count": 65,
   "metadata": {
    "ExecuteTime": {
     "end_time": "2020-04-10T22:36:01.371773Z",
     "start_time": "2020-04-10T22:35:35.857483Z"
    }
   },
   "outputs": [
    {
     "name": "stdout",
     "output_type": "stream",
     "text": [
      "Fitting 10 folds for each of 3 candidates, totalling 30 fits\n"
     ]
    },
    {
     "name": "stderr",
     "output_type": "stream",
     "text": [
      "[Parallel(n_jobs=-1)]: Using backend LokyBackend with 8 concurrent workers.\n",
      "[Parallel(n_jobs=-1)]: Done   2 tasks      | elapsed:    6.5s\n",
      "[Parallel(n_jobs=-1)]: Done   9 tasks      | elapsed:   12.8s\n",
      "[Parallel(n_jobs=-1)]: Done  19 out of  30 | elapsed:   19.8s remaining:   11.5s\n",
      "[Parallel(n_jobs=-1)]: Done  23 out of  30 | elapsed:   20.2s remaining:    6.1s\n",
      "[Parallel(n_jobs=-1)]: Done  27 out of  30 | elapsed:   25.2s remaining:    2.8s\n",
      "[Parallel(n_jobs=-1)]: Done  30 out of  30 | elapsed:   25.4s finished\n"
     ]
    },
    {
     "data": {
      "text/plain": [
       "GridSearchCV(cv=10, error_score='raise-deprecating',\n",
       "             estimator=KNeighborsClassifier(algorithm='auto', leaf_size=30,\n",
       "                                            metric='minkowski',\n",
       "                                            metric_params=None, n_jobs=None,\n",
       "                                            n_neighbors=5, p=2,\n",
       "                                            weights='uniform'),\n",
       "             iid='warn', n_jobs=-1, param_grid=[{'n_neighbors': [4, 5, 6]}],\n",
       "             pre_dispatch='2*n_jobs', refit=True, return_train_score=False,\n",
       "             scoring=None, verbose=10)"
      ]
     },
     "execution_count": 65,
     "metadata": {},
     "output_type": "execute_result"
    }
   ],
   "source": [
    "clf = KNeighborsClassifier()\n",
    "parameters=[{'n_neighbors': [4,5,6]}]\n",
    "neigh=GridSearchCV(clf,parameters,n_jobs=-1,cv=10,verbose=10)\n",
    "neigh.fit(X_train,Y_train)"
   ]
  },
  {
   "cell_type": "code",
   "execution_count": 70,
   "metadata": {
    "ExecuteTime": {
     "end_time": "2020-04-10T22:37:13.869360Z",
     "start_time": "2020-04-10T22:36:57.485860Z"
    }
   },
   "outputs": [
    {
     "name": "stdout",
     "output_type": "stream",
     "text": [
      "{'n_neighbors': 6}\n"
     ]
    },
    {
     "data": {
      "text/plain": [
       "0.8856464200882254"
      ]
     },
     "execution_count": 70,
     "metadata": {},
     "output_type": "execute_result"
    }
   ],
   "source": [
    "print(neigh.best_params_)\n",
    "get_acc(X_test, Y_test, neigh)"
   ]
  },
  {
   "cell_type": "code",
   "execution_count": 72,
   "metadata": {
    "ExecuteTime": {
     "end_time": "2020-04-10T22:37:42.486092Z",
     "start_time": "2020-04-10T22:37:25.794936Z"
    }
   },
   "outputs": [
    {
     "name": "stdout",
     "output_type": "stream",
     "text": [
      "[[475.  48.  54.   0.   0.   0.]\n",
      " [  3. 421.  49.   1.   0.   0.]\n",
      " [ 18.   2. 317.   0.   0.   0.]\n",
      " [  0.   0.   0. 418.  58.  25.]\n",
      " [  0.   0.   0.  69. 474.   7.]\n",
      " [  0.   0.   0.   3.   0. 505.]]\n"
     ]
    },
    {
     "data": {
      "image/png": "[encoded data removed]",
      "text/plain": [
       "<Figure size 720x504 with 2 Axes>"
      ]
     },
     "metadata": {
      "needs_background": "light"
     },
     "output_type": "display_data"
    }
   ],
   "source": [
    "print_conf(X_test, Y_test,neigh)"
   ]
  },
  {
   "cell_type": "code",
   "execution_count": 67,
   "metadata": {
    "ExecuteTime": {
     "end_time": "2020-04-10T22:36:06.036396Z",
     "start_time": "2020-04-10T22:36:05.429449Z"
    }
   },
   "outputs": [
    {
     "name": "stdout",
     "output_type": "stream",
     "text": [
      "Fitting 10 folds for each of 3 candidates, totalling 30 fits\n"
     ]
    },
    {
     "name": "stderr",
     "output_type": "stream",
     "text": [
      "[Parallel(n_jobs=-1)]: Using backend LokyBackend with 8 concurrent workers.\n",
      "[Parallel(n_jobs=-1)]: Batch computation too fast (0.1000s.) Setting batch_size=4.\n",
      "[Parallel(n_jobs=-1)]: Done   2 tasks      | elapsed:    0.1s\n",
      "[Parallel(n_jobs=-1)]: Done   7 out of  30 | elapsed:    0.2s remaining:    0.7s\n",
      "[Parallel(n_jobs=-1)]: Done  11 out of  30 | elapsed:    0.2s remaining:    0.4s\n",
      "[Parallel(n_jobs=-1)]: Done  15 out of  30 | elapsed:    0.3s remaining:    0.3s\n",
      "[Parallel(n_jobs=-1)]: Done  30 out of  30 | elapsed:    0.6s finished\n"
     ]
    },
    {
     "data": {
      "text/plain": [
       "GridSearchCV(cv=10, error_score='raise-deprecating',\n",
       "             estimator=KNeighborsClassifier(algorithm='auto', leaf_size=30,\n",
       "                                            metric='minkowski',\n",
       "                                            metric_params=None, n_jobs=None,\n",
       "                                            n_neighbors=5, p=2,\n",
       "                                            weights='uniform'),\n",
       "             iid='warn', n_jobs=-1, param_grid=[{'n_neighbors': [4, 5, 6]}],\n",
       "             pre_dispatch='2*n_jobs', refit=True, return_train_score=False,\n",
       "             scoring=None, verbose=10)"
      ]
     },
     "execution_count": 67,
     "metadata": {},
     "output_type": "execute_result"
    }
   ],
   "source": [
    "clf_pca = KNeighborsClassifier()\n",
    "parameters=[{'n_neighbors': [4,5,6]}]\n",
    "neigh_pca=GridSearchCV(clf,parameters,n_jobs=-1,cv=10,verbose=10)\n",
    "neigh_pca.fit(X_train_pca,Y_train)"
   ]
  },
  {
   "cell_type": "code",
   "execution_count": 69,
   "metadata": {
    "ExecuteTime": {
     "end_time": "2020-04-10T22:36:35.455464Z",
     "start_time": "2020-04-10T22:36:35.189133Z"
    }
   },
   "outputs": [
    {
     "name": "stdout",
     "output_type": "stream",
     "text": [
      "{'n_neighbors': 5}\n"
     ]
    },
    {
     "data": {
      "text/plain": [
       "0.8449270444519851"
      ]
     },
     "execution_count": 69,
     "metadata": {},
     "output_type": "execute_result"
    }
   ],
   "source": [
    "print(neigh_pca.best_params_)\n",
    "get_acc(X_test_pca, Y_test, neigh_pca)"
   ]
  },
  {
   "cell_type": "code",
   "execution_count": 71,
   "metadata": {
    "ExecuteTime": {
     "end_time": "2020-04-10T22:37:14.380759Z",
     "start_time": "2020-04-10T22:37:13.870949Z"
    }
   },
   "outputs": [
    {
     "name": "stdout",
     "output_type": "stream",
     "text": [
      "[[448.  42.  46.   0.   0.   0.]\n",
      " [ 16. 413.  52.   1.   0.   0.]\n",
      " [ 32.  16. 322.   0.   0.   0.]\n",
      " [  0.   0.   0. 347.  76.  29.]\n",
      " [  0.   0.   0. 142. 456.   4.]\n",
      " [  0.   0.   0.   1.   0. 504.]]\n"
     ]
    },
    {
     "data": {
      "image/png": "[encoded data removed]",
      "text/plain": [
       "<Figure size 720x504 with 2 Axes>"
      ]
     },
     "metadata": {
      "needs_background": "light"
     },
     "output_type": "display_data"
    }
   ],
   "source": [
    "print_conf(X_test_pca, Y_test,neigh_pca)"
   ]
  },
  {
   "cell_type": "code",
   "execution_count": 74,
   "metadata": {
    "ExecuteTime": {
     "end_time": "2020-04-10T22:54:29.283753Z",
     "start_time": "2020-04-10T22:50:41.284821Z"
    }
   },
   "outputs": [
    {
     "name": "stdout",
     "output_type": "stream",
     "text": [
      "Fitting 10 folds for each of 4 candidates, totalling 40 fits\n"
     ]
    },
    {
     "name": "stderr",
     "output_type": "stream",
     "text": [
      "[Parallel(n_jobs=8)]: Using backend LokyBackend with 8 concurrent workers.\n",
      "[Parallel(n_jobs=8)]: Done   2 tasks      | elapsed:   15.3s\n",
      "[Parallel(n_jobs=8)]: Done   9 tasks      | elapsed:   54.8s\n",
      "[Parallel(n_jobs=8)]: Done  16 tasks      | elapsed:  1.5min\n",
      "[Parallel(n_jobs=8)]: Done  25 tasks      | elapsed:  2.4min\n",
      "[Parallel(n_jobs=8)]: Done  30 out of  40 | elapsed:  2.8min remaining:   56.5s\n",
      "[Parallel(n_jobs=8)]: Done  35 out of  40 | elapsed:  3.3min remaining:   28.0s\n",
      "[Parallel(n_jobs=8)]: Done  40 out of  40 | elapsed:  3.7min remaining:    0.0s\n",
      "[Parallel(n_jobs=8)]: Done  40 out of  40 | elapsed:  3.7min finished\n"
     ]
    },
    {
     "data": {
      "text/plain": [
       "GridSearchCV(cv=10, error_score='raise-deprecating',\n",
       "             estimator=SVC(C=1.0, cache_size=200, class_weight=None, coef0=0.0,\n",
       "                           decision_function_shape='ovr', degree=3,\n",
       "                           gamma='auto_deprecated', kernel='linear',\n",
       "                           max_iter=-1, probability=False, random_state=None,\n",
       "                           shrinking=True, tol=0.001, verbose=False),\n",
       "             iid='warn', n_jobs=8, param_grid=[{'C': [10, 100, 1000, 10000]}],\n",
       "             pre_dispatch='2*n_jobs', refit=True, return_train_score=False,\n",
       "             scoring=None, verbose=10)"
      ]
     },
     "execution_count": 74,
     "metadata": {},
     "output_type": "execute_result"
    }
   ],
   "source": [
    "clf_lin = SVC(kernel = 'linear')\n",
    "parameters=[{'C': [10, 100, 1000,10000]}]\n",
    "model_lin=GridSearchCV(clf_lin,parameters,n_jobs=8,cv=10,verbose=10)\n",
    "model_lin.fit(X_train.tolist(),Y_train.tolist())"
   ]
  },
  {
   "cell_type": "code",
   "execution_count": 75,
   "metadata": {
    "ExecuteTime": {
     "end_time": "2020-04-10T22:54:30.729051Z",
     "start_time": "2020-04-10T22:54:29.285696Z"
    }
   },
   "outputs": [
    {
     "name": "stdout",
     "output_type": "stream",
     "text": [
      "{'C': 10}\n"
     ]
    },
    {
     "data": {
      "text/plain": [
       "0.9582626399728538"
      ]
     },
     "execution_count": 75,
     "metadata": {},
     "output_type": "execute_result"
    }
   ],
   "source": [
    "print(model_lin.best_params_)\n",
    "get_acc(X_test, Y_test, model_lin)"
   ]
  },
  {
   "cell_type": "code",
   "execution_count": 77,
   "metadata": {
    "ExecuteTime": {
     "end_time": "2020-04-10T22:56:52.538924Z",
     "start_time": "2020-04-10T22:56:50.837841Z"
    }
   },
   "outputs": [
    {
     "name": "stdout",
     "output_type": "stream",
     "text": [
      "[[484.   8.   3.   0.   0.   0.]\n",
      " [  7. 460.  11.   2.   0.   0.]\n",
      " [  5.   3. 406.   0.   0.   0.]\n",
      " [  0.   0.   0. 443.  38.   0.]\n",
      " [  0.   0.   0.  46. 494.   0.]\n",
      " [  0.   0.   0.   0.   0. 537.]]\n"
     ]
    },
    {
     "data": {
      "image/png": "[encoded data removed]",
      "text/plain": [
       "<Figure size 720x504 with 2 Axes>"
      ]
     },
     "metadata": {
      "needs_background": "light"
     },
     "output_type": "display_data"
    }
   ],
   "source": [
    "print_conf(X_test, Y_test, model_lin)"
   ]
  },
  {
   "cell_type": "code",
   "execution_count": 10,
   "metadata": {
    "ExecuteTime": {
     "end_time": "2020-04-11T01:13:32.637223Z",
     "start_time": "2020-04-10T23:26:12.311416Z"
    }
   },
   "outputs": [
    {
     "name": "stdout",
     "output_type": "stream",
     "text": [
      "Fitting 10 folds for each of 4 candidates, totalling 40 fits\n"
     ]
    },
    {
     "name": "stderr",
     "output_type": "stream",
     "text": [
      "[Parallel(n_jobs=-1)]: Using backend LokyBackend with 8 concurrent workers.\n",
      "[Parallel(n_jobs=-1)]: Done   2 tasks      | elapsed:    7.1s\n",
      "[Parallel(n_jobs=-1)]: Done   9 tasks      | elapsed:   13.9s\n",
      "[Parallel(n_jobs=-1)]: Done  16 tasks      | elapsed:  1.4min\n",
      "[Parallel(n_jobs=-1)]: Done  25 tasks      | elapsed: 12.4min\n",
      "[Parallel(n_jobs=-1)]: Done  30 out of  40 | elapsed: 22.3min remaining:  7.4min\n",
      "[Parallel(n_jobs=-1)]: Done  35 out of  40 | elapsed: 81.4min remaining: 11.6min\n",
      "[Parallel(n_jobs=-1)]: Done  40 out of  40 | elapsed: 106.7min remaining:    0.0s\n",
      "[Parallel(n_jobs=-1)]: Done  40 out of  40 | elapsed: 106.7min finished\n"
     ]
    },
    {
     "data": {
      "text/plain": [
       "GridSearchCV(cv=10, error_score='raise-deprecating',\n",
       "             estimator=SVC(C=1.0, cache_size=200, class_weight=None, coef0=0.0,\n",
       "                           decision_function_shape='ovr', degree=3,\n",
       "                           gamma='auto_deprecated', kernel='linear',\n",
       "                           max_iter=-1, probability=False, random_state=None,\n",
       "                           shrinking=True, tol=0.001, verbose=False),\n",
       "             iid='warn', n_jobs=-1, param_grid=[{'C': [10, 100, 1000, 10000]}],\n",
       "             pre_dispatch='2*n_jobs', refit=True, return_train_score=False,\n",
       "             scoring=None, verbose=10)"
      ]
     },
     "execution_count": 10,
     "metadata": {},
     "output_type": "execute_result"
    }
   ],
   "source": [
    "clf_lin_pca = SVC(kernel = 'linear')\n",
    "parameters=[{'C': [10, 100, 1000, 10000]}]\n",
    "model_lin_pca=GridSearchCV(clf_lin_pca,parameters,n_jobs=-1,cv=10,verbose=10)\n",
    "model_lin_pca.fit(X_train_pca,Y_train)"
   ]
  },
  {
   "cell_type": "code",
   "execution_count": 13,
   "metadata": {
    "ExecuteTime": {
     "end_time": "2020-04-11T01:46:35.209194Z",
     "start_time": "2020-04-11T01:46:35.105806Z"
    }
   },
   "outputs": [
    {
     "name": "stdout",
     "output_type": "stream",
     "text": [
      "{'C': 100}\n"
     ]
    },
    {
     "data": {
      "text/plain": [
       "0.8761452324397693"
      ]
     },
     "execution_count": 13,
     "metadata": {},
     "output_type": "execute_result"
    }
   ],
   "source": [
    "print(model_lin_pca.best_params_)\n",
    "get_acc(X_test_pca, Y_test, model_lin_pca)"
   ]
  },
  {
   "cell_type": "code",
   "execution_count": 16,
   "metadata": {
    "ExecuteTime": {
     "end_time": "2020-04-11T01:47:13.007285Z",
     "start_time": "2020-04-11T01:47:12.617496Z"
    },
    "scrolled": false
   },
   "outputs": [
    {
     "name": "stdout",
     "output_type": "stream",
     "text": [
      "[[439.  17.   8.   0.   0.   0.]\n",
      " [ 15. 429.  47.   1.   0.   0.]\n",
      " [ 42.  25. 365.   0.   0.   0.]\n",
      " [  0.   0.   0. 431. 133.  18.]\n",
      " [  0.   0.   0.  55. 399.   0.]\n",
      " [  0.   0.   0.   4.   0. 519.]]\n"
     ]
    },
    {
     "data": {
      "image/png": "[encoded data removed]",
      "text/plain": [
       "<Figure size 720x504 with 2 Axes>"
      ]
     },
     "metadata": {
      "needs_background": "light"
     },
     "output_type": "display_data"
    }
   ],
   "source": [
    "print_conf(X_test_pca, Y_test, model_lin_pca)"
   ]
  },
  {
   "cell_type": "code",
   "execution_count": 11,
   "metadata": {
    "ExecuteTime": {
     "end_time": "2020-04-11T06:25:11.682785Z",
     "start_time": "2020-04-11T06:25:11.676460Z"
    }
   },
   "outputs": [],
   "source": [
    "def get_conf(X, Y, model):\n",
    "    #activities = {1:'WALKING', 2:'WALKING_UPSTAIRS', 3:'WALKING_DOWNSTAIRS', 4:'SITTING', 5:'STANDING', 6:'LAYING'}\n",
    "    Y_pred = model.predict(X)\n",
    "    array = np.zeros((np.unique(Y).shape[0], np.unique(Y).shape[0])) # confusion matrix\n",
    "    for i, y in enumerate(Y_pred):\n",
    "        array[int(y)-1][int(Y[i])-1]+=1\n",
    "    return (array)\n",
    "    #plt.figure(figsize=(10,7))\n",
    "    \n",
    "    #sn.heatmap(array, annot=True, fmt='g', xticklabels = list(activities.values()), yticklabels = list(activities.values())) # font size\n",
    "    #plt.show()"
   ]
  },
  {
   "cell_type": "code",
   "execution_count": 14,
   "metadata": {
    "ExecuteTime": {
     "end_time": "2020-04-11T06:27:00.191967Z",
     "start_time": "2020-04-11T06:27:00.186831Z"
    }
   },
   "outputs": [],
   "source": [
    "def get_acc_class(arr):\n",
    "    acc = []\n",
    "    for i, row in enumerate(arr):\n",
    "        acc.append(float(row[i])/float(sum(row)))\n",
    "    print(acc)\n",
    "    print(sum(acc)/len(acc))"
   ]
  },
  {
   "cell_type": "code",
   "execution_count": 15,
   "metadata": {
    "ExecuteTime": {
     "end_time": "2020-04-11T06:27:01.243541Z",
     "start_time": "2020-04-11T06:27:01.236074Z"
    }
   },
   "outputs": [
    {
     "name": "stdout",
     "output_type": "stream",
     "text": [
      "[0.9461206896551724, 0.8719512195121951, 0.8449074074074074, 0.7405498281786942, 0.8788546255506607, 0.9923518164435946]\n",
      "0.8791225977912874\n"
     ]
    }
   ],
   "source": [
    "get_acc_class([[439.,  17. ,  8. ,  0.,   0. ,  0.],\n",
    " [ 15. ,429. , 47.  , 1. ,  0. ,  0.],\n",
    " [ 42. , 25., 365. ,  0. ,  0.  , 0.],\n",
    " [  0. ,  0. ,  0., 431. ,133. , 18.],\n",
    " [  0. ,  0. ,  0.  ,55. ,399. ,  0.],\n",
    " [  0. ,  0. ,  0. ,  4.  , 0. ,519.]])"
   ]
  },
  {
   "cell_type": "markdown",
   "metadata": {},
   "source": [
    "# 5. Final comparison of all classifiers"
   ]
  },
  {
   "cell_type": "code",
   "execution_count": 16,
   "metadata": {
    "ExecuteTime": {
     "end_time": "2020-04-11T06:27:52.117753Z",
     "start_time": "2020-04-11T06:27:46.940862Z"
    }
   },
   "outputs": [
    {
     "name": "stdout",
     "output_type": "stream",
     "text": [
      "[0.9817813765182186, 0.95625, 0.9782608695652174, 0.9571734475374732, 0.9225225225225225, 1.0]\n",
      "0.9659980360239054\n"
     ]
    }
   ],
   "source": [
    "svm = SVC(C = 1000, gamma = 0.0001)\n",
    "svm.fit(X_train, Y_train)\n",
    "get_acc_class(get_conf(X_test, Y_test, svm))"
   ]
  },
  {
   "cell_type": "code",
   "execution_count": 17,
   "metadata": {
    "ExecuteTime": {
     "end_time": "2020-04-11T06:29:05.220975Z",
     "start_time": "2020-04-11T06:29:04.734359Z"
    }
   },
   "outputs": [
    {
     "name": "stdout",
     "output_type": "stream",
     "text": [
      "[0.9468085106382979, 0.8725490196078431, 0.9142156862745098, 0.7266666666666667, 0.8832951945080092, 0.9942528735632183]\n",
      "0.8896313252097575\n"
     ]
    }
   ],
   "source": [
    "svm_pca = SVC(C = 10, gamma = 0.01)\n",
    "svm_pca.fit(X_train_pca, Y_train)\n",
    "get_acc_class(get_conf(X_test_pca, Y_test, svm_pca))"
   ]
  },
  {
   "cell_type": "code",
   "execution_count": 18,
   "metadata": {
    "ExecuteTime": {
     "end_time": "2020-04-11T06:30:25.378378Z",
     "start_time": "2020-04-11T06:30:14.097898Z"
    }
   },
   "outputs": [
    {
     "name": "stdout",
     "output_type": "stream",
     "text": [
      "[0.9813278008298755, 0.9432048681541582, 0.9541062801932367, 0.9493670886075949, 0.9321100917431193, 0.9962894248608535]\n",
      "0.959400925731473\n"
     ]
    }
   ],
   "source": [
    "svm_lin = SVC(C = 10)\n",
    "svm_lin.fit(X_train, Y_train)\n",
    "get_acc_class(get_conf(X_test, Y_test, svm_lin))"
   ]
  },
  {
   "cell_type": "code",
   "execution_count": 19,
   "metadata": {
    "ExecuteTime": {
     "end_time": "2020-04-11T06:31:19.229194Z",
     "start_time": "2020-04-11T06:31:02.797874Z"
    }
   },
   "outputs": [
    {
     "name": "stdout",
     "output_type": "stream",
     "text": [
      "[0.8431372549019608, 0.89375, 0.9423631123919308, 0.8835616438356164, 0.8198347107438017, 0.9961240310077519]\n",
      "0.8964617921468436\n"
     ]
    }
   ],
   "source": [
    "neigh = KNeighborsClassifier(n_neighbors=5)\n",
    "neigh.fit(X_train, Y_train)\n",
    "get_acc_class(get_conf(X_test, Y_test, neigh))"
   ]
  },
  {
   "cell_type": "code",
   "execution_count": 20,
   "metadata": {
    "ExecuteTime": {
     "end_time": "2020-04-11T06:35:48.530969Z",
     "start_time": "2020-04-11T06:35:44.668583Z"
    }
   },
   "outputs": [
    {
     "name": "stdout",
     "output_type": "stream",
     "text": [
      "[0.8686868686868687, 0.8288288288288288, 0.8258928571428571, 0.5699481865284974, 0.796812749003984, 1.0]\n",
      "0.8150282483651727\n"
     ]
    }
   ],
   "source": [
    "dt = DecisionTreeClassifier()\n",
    "dt = dt.fit(X_train,Y_train)\n",
    "get_acc_class(get_conf(X_test, Y_test, dt))"
   ]
  }
 ],
 "metadata": {
  "kernelspec": {
   "display_name": "Python 3",
   "language": "python",
   "name": "python3"
  },
  "language_info": {
   "codemirror_mode": {
    "name": "ipython",
    "version": 3
   },
   "file_extension": ".py",
   "mimetype": "text/x-python",
   "name": "python",
   "nbconvert_exporter": "python",
   "pygments_lexer": "ipython3",
   "version": "3.7.7"
  }
 },
 "nbformat": 4,
 "nbformat_minor": 2
}
